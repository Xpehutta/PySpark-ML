{
 "cells": [
  {
   "cell_type": "code",
   "execution_count": 1,
   "metadata": {},
   "outputs": [],
   "source": [
    "from pyspark.sql import SparkSession\n",
    "from pyspark.sql.functions import col, unix_timestamp, expr, desc, regexp_extract, isnan, when, count\n",
    "from pyspark.ml.feature import VectorAssembler, StringIndexer\n",
    "from pyspark.ml.classification import GBTClassifier, GBTClassificationModel\n",
    "from pyspark.ml.evaluation import RegressionEvaluator\n",
    "from pyspark.ml import Pipeline\n",
    "from pyspark.ml.regression import GBTRegressor\n",
    "from pyspark.ml.tuning import CrossValidator, ParamGridBuilder, TrainValidationSplit\n",
    "import numpy as np"
   ]
  },
  {
   "cell_type": "code",
   "execution_count": 2,
   "metadata": {
    "collapsed": true
   },
   "outputs": [],
   "source": [
    "spark.stop()"
   ]
  },
  {
   "cell_type": "code",
   "execution_count": 3,
   "metadata": {},
   "outputs": [],
   "source": [
    "spark = SparkSession \\\n",
    "    .builder \\\n",
    "    .config(\"spark.driver.maxResultSize\",  \"0\") \\\n",
    "    .appName(\"09_red-vine-quality-prediction\") \\\n",
    "    .master(\"yarn\") \\\n",
    "    .getOrCreate()"
   ]
  },
  {
   "cell_type": "code",
   "execution_count": 4,
   "metadata": {},
   "outputs": [
    {
     "data": {
      "text/html": [
       "\n",
       "            <div>\n",
       "                <p><b>SparkSession - hive</b></p>\n",
       "                \n",
       "        <div>\n",
       "            <p><b>SparkContext</b></p>\n",
       "\n",
       "            <p><a href=\"http://hadoop2-00.yandex.ru:4041\">Spark UI</a></p>\n",
       "\n",
       "            <dl>\n",
       "              <dt>Version</dt>\n",
       "                <dd><code>v2.3.0.cloudera3</code></dd>\n",
       "              <dt>Master</dt>\n",
       "                <dd><code>yarn</code></dd>\n",
       "              <dt>AppName</dt>\n",
       "                <dd><code>09_red-vine-quality-prediction</code></dd>\n",
       "            </dl>\n",
       "        </div>\n",
       "        \n",
       "            </div>\n",
       "        "
      ],
      "text/plain": [
       "<pyspark.sql.session.SparkSession at 0x7fd0c96b4be0>"
      ]
     },
     "execution_count": 4,
     "metadata": {},
     "output_type": "execute_result"
    }
   ],
   "source": [
    "spark"
   ]
  },
  {
   "cell_type": "code",
   "execution_count": 5,
   "metadata": {},
   "outputs": [
    {
     "name": "stdout",
     "output_type": "stream",
     "text": [
      "Found 3 items\r\n",
      "-rw-r--r--   3 hdfs lsml      28629 2021-05-10 01:24 /data/lsml/6-spark-ml/test.csv\r\n",
      "-rw-r--r--   3 hdfs lsml      61194 2021-05-10 01:24 /data/lsml/6-spark-ml/train.csv\r\n",
      "-rw-r--r--   3 hdfs lsml      84199 2022-02-13 22:33 /data/lsml/6-spark-ml/winequality-red.csv\r\n"
     ]
    }
   ],
   "source": [
    "!hdfs dfs -ls /data/lsml/6-spark-ml/"
   ]
  },
  {
   "cell_type": "code",
   "execution_count": 6,
   "metadata": {
    "collapsed": true
   },
   "outputs": [],
   "source": [
    "dataset = spark.read.csv(\"hdfs:///data/lsml/6-spark-ml/winequality-red.csv\", inferSchema = True, header=True, sep=\";\")"
   ]
  },
  {
   "cell_type": "code",
   "execution_count": 7,
   "metadata": {},
   "outputs": [
    {
     "name": "stdout",
     "output_type": "stream",
     "text": [
      "+-------------+----------------+-----------+--------------+---------+-------------------+--------------------+-------+----+---------+-------+-------+\n",
      "|fixed acidity|volatile acidity|citric acid|residual sugar|chlorides|free sulfur dioxide|total sulfur dioxide|density|  pH|sulphates|alcohol|quality|\n",
      "+-------------+----------------+-----------+--------------+---------+-------------------+--------------------+-------+----+---------+-------+-------+\n",
      "|          7.4|             0.7|        0.0|           1.9|    0.076|               11.0|                34.0| 0.9978|3.51|     0.56|    9.4|      5|\n",
      "|          7.8|            0.88|        0.0|           2.6|    0.098|               25.0|                67.0| 0.9968| 3.2|     0.68|    9.8|      5|\n",
      "+-------------+----------------+-----------+--------------+---------+-------------------+--------------------+-------+----+---------+-------+-------+\n",
      "only showing top 2 rows\n",
      "\n"
     ]
    }
   ],
   "source": [
    "dataset.show(2)"
   ]
  },
  {
   "cell_type": "code",
   "execution_count": 8,
   "metadata": {},
   "outputs": [
    {
     "name": "stdout",
     "output_type": "stream",
     "text": [
      "root\n",
      " |-- fixed acidity: double (nullable = true)\n",
      " |-- volatile acidity: double (nullable = true)\n",
      " |-- citric acid: double (nullable = true)\n",
      " |-- residual sugar: double (nullable = true)\n",
      " |-- chlorides: double (nullable = true)\n",
      " |-- free sulfur dioxide: double (nullable = true)\n",
      " |-- total sulfur dioxide: double (nullable = true)\n",
      " |-- density: double (nullable = true)\n",
      " |-- pH: double (nullable = true)\n",
      " |-- sulphates: double (nullable = true)\n",
      " |-- alcohol: double (nullable = true)\n",
      " |-- quality: integer (nullable = true)\n",
      "\n"
     ]
    }
   ],
   "source": [
    "dataset.printSchema()"
   ]
  },
  {
   "cell_type": "code",
   "execution_count": 9,
   "metadata": {},
   "outputs": [
    {
     "data": {
      "text/html": [
       "<div>\n",
       "<style>\n",
       "    .dataframe thead tr:only-child th {\n",
       "        text-align: right;\n",
       "    }\n",
       "\n",
       "    .dataframe thead th {\n",
       "        text-align: left;\n",
       "    }\n",
       "\n",
       "    .dataframe tbody tr th {\n",
       "        vertical-align: top;\n",
       "    }\n",
       "</style>\n",
       "<table border=\"1\" class=\"dataframe\">\n",
       "  <thead>\n",
       "    <tr style=\"text-align: right;\">\n",
       "      <th></th>\n",
       "      <th>fixed acidity</th>\n",
       "      <th>volatile acidity</th>\n",
       "      <th>citric acid</th>\n",
       "      <th>residual sugar</th>\n",
       "      <th>chlorides</th>\n",
       "      <th>free sulfur dioxide</th>\n",
       "      <th>total sulfur dioxide</th>\n",
       "      <th>density</th>\n",
       "      <th>pH</th>\n",
       "      <th>sulphates</th>\n",
       "      <th>alcohol</th>\n",
       "      <th>quality</th>\n",
       "    </tr>\n",
       "  </thead>\n",
       "  <tbody>\n",
       "    <tr>\n",
       "      <th>0</th>\n",
       "      <td>0</td>\n",
       "      <td>0</td>\n",
       "      <td>0</td>\n",
       "      <td>0</td>\n",
       "      <td>0</td>\n",
       "      <td>0</td>\n",
       "      <td>0</td>\n",
       "      <td>0</td>\n",
       "      <td>0</td>\n",
       "      <td>0</td>\n",
       "      <td>0</td>\n",
       "      <td>0</td>\n",
       "    </tr>\n",
       "  </tbody>\n",
       "</table>\n",
       "</div>"
      ],
      "text/plain": [
       "   fixed acidity  volatile acidity  citric acid  residual sugar  chlorides  \\\n",
       "0              0                 0            0               0          0   \n",
       "\n",
       "   free sulfur dioxide  total sulfur dioxide  density  pH  sulphates  alcohol  \\\n",
       "0                    0                     0        0   0          0        0   \n",
       "\n",
       "   quality  \n",
       "0        0  "
      ]
     },
     "execution_count": 9,
     "metadata": {},
     "output_type": "execute_result"
    }
   ],
   "source": [
    "df_count = dataset.select([count(when(col(c).contains('None') | \\\n",
    "                            col(c).contains('NULL') | \\\n",
    "                            (col(c) == '' ) | \\\n",
    "                            col(c).isNull() | \\\n",
    "                            isnan(c), c \n",
    "                           )).alias(c)\n",
    "                    for c in dataset.columns])\n",
    "df_count.toPandas()"
   ]
  },
  {
   "cell_type": "code",
   "execution_count": 10,
   "metadata": {},
   "outputs": [
    {
     "name": "stdout",
     "output_type": "stream",
     "text": [
      "+-------+-----+\n",
      "|quality|count|\n",
      "+-------+-----+\n",
      "|      6|  638|\n",
      "|      3|   10|\n",
      "|      5|  681|\n",
      "|      4|   53|\n",
      "|      8|   18|\n",
      "|      7|  199|\n",
      "+-------+-----+\n",
      "\n"
     ]
    }
   ],
   "source": [
    "dataset.groupBy('quality').count().show()"
   ]
  },
  {
   "cell_type": "code",
   "execution_count": 11,
   "metadata": {},
   "outputs": [
    {
     "data": {
      "text/html": [
       "<div>\n",
       "<style>\n",
       "    .dataframe thead tr:only-child th {\n",
       "        text-align: right;\n",
       "    }\n",
       "\n",
       "    .dataframe thead th {\n",
       "        text-align: left;\n",
       "    }\n",
       "\n",
       "    .dataframe tbody tr th {\n",
       "        vertical-align: top;\n",
       "    }\n",
       "</style>\n",
       "<table border=\"1\" class=\"dataframe\">\n",
       "  <thead>\n",
       "    <tr style=\"text-align: right;\">\n",
       "      <th></th>\n",
       "      <th>summary</th>\n",
       "      <th>fixed acidity</th>\n",
       "      <th>volatile acidity</th>\n",
       "      <th>citric acid</th>\n",
       "      <th>residual sugar</th>\n",
       "      <th>chlorides</th>\n",
       "      <th>free sulfur dioxide</th>\n",
       "      <th>total sulfur dioxide</th>\n",
       "      <th>density</th>\n",
       "      <th>pH</th>\n",
       "      <th>sulphates</th>\n",
       "      <th>alcohol</th>\n",
       "      <th>quality</th>\n",
       "    </tr>\n",
       "  </thead>\n",
       "  <tbody>\n",
       "    <tr>\n",
       "      <th>0</th>\n",
       "      <td>count</td>\n",
       "      <td>1599</td>\n",
       "      <td>1599</td>\n",
       "      <td>1599</td>\n",
       "      <td>1599</td>\n",
       "      <td>1599</td>\n",
       "      <td>1599</td>\n",
       "      <td>1599</td>\n",
       "      <td>1599</td>\n",
       "      <td>1599</td>\n",
       "      <td>1599</td>\n",
       "      <td>1599</td>\n",
       "      <td>1599</td>\n",
       "    </tr>\n",
       "    <tr>\n",
       "      <th>1</th>\n",
       "      <td>mean</td>\n",
       "      <td>8.319637273295838</td>\n",
       "      <td>0.5278205128205131</td>\n",
       "      <td>0.2709756097560964</td>\n",
       "      <td>2.5388055034396517</td>\n",
       "      <td>0.08746654158849257</td>\n",
       "      <td>15.874921826141339</td>\n",
       "      <td>46.46779237023139</td>\n",
       "      <td>0.9967466791744831</td>\n",
       "      <td>3.311113195747343</td>\n",
       "      <td>0.6581488430268921</td>\n",
       "      <td>10.422983114446502</td>\n",
       "      <td>5.6360225140712945</td>\n",
       "    </tr>\n",
       "    <tr>\n",
       "      <th>2</th>\n",
       "      <td>stddev</td>\n",
       "      <td>1.7410963181276948</td>\n",
       "      <td>0.17905970415353525</td>\n",
       "      <td>0.19480113740531824</td>\n",
       "      <td>1.40992805950728</td>\n",
       "      <td>0.047065302010090085</td>\n",
       "      <td>10.46015696980971</td>\n",
       "      <td>32.89532447829907</td>\n",
       "      <td>0.0018873339538427265</td>\n",
       "      <td>0.15438646490354271</td>\n",
       "      <td>0.1695069795901101</td>\n",
       "      <td>1.0656675818473935</td>\n",
       "      <td>0.8075694397347051</td>\n",
       "    </tr>\n",
       "    <tr>\n",
       "      <th>3</th>\n",
       "      <td>min</td>\n",
       "      <td>4.6</td>\n",
       "      <td>0.12</td>\n",
       "      <td>0.0</td>\n",
       "      <td>0.9</td>\n",
       "      <td>0.012</td>\n",
       "      <td>1.0</td>\n",
       "      <td>6.0</td>\n",
       "      <td>0.99007</td>\n",
       "      <td>2.74</td>\n",
       "      <td>0.33</td>\n",
       "      <td>8.4</td>\n",
       "      <td>3</td>\n",
       "    </tr>\n",
       "    <tr>\n",
       "      <th>4</th>\n",
       "      <td>max</td>\n",
       "      <td>15.9</td>\n",
       "      <td>1.58</td>\n",
       "      <td>1.0</td>\n",
       "      <td>15.5</td>\n",
       "      <td>0.611</td>\n",
       "      <td>72.0</td>\n",
       "      <td>289.0</td>\n",
       "      <td>1.00369</td>\n",
       "      <td>4.01</td>\n",
       "      <td>2.0</td>\n",
       "      <td>14.9</td>\n",
       "      <td>8</td>\n",
       "    </tr>\n",
       "  </tbody>\n",
       "</table>\n",
       "</div>"
      ],
      "text/plain": [
       "  summary       fixed acidity     volatile acidity          citric acid  \\\n",
       "0   count                1599                 1599                 1599   \n",
       "1    mean   8.319637273295838   0.5278205128205131   0.2709756097560964   \n",
       "2  stddev  1.7410963181276948  0.17905970415353525  0.19480113740531824   \n",
       "3     min                 4.6                 0.12                  0.0   \n",
       "4     max                15.9                 1.58                  1.0   \n",
       "\n",
       "       residual sugar             chlorides free sulfur dioxide  \\\n",
       "0                1599                  1599                1599   \n",
       "1  2.5388055034396517   0.08746654158849257  15.874921826141339   \n",
       "2    1.40992805950728  0.047065302010090085   10.46015696980971   \n",
       "3                 0.9                 0.012                 1.0   \n",
       "4                15.5                 0.611                72.0   \n",
       "\n",
       "  total sulfur dioxide                density                   pH  \\\n",
       "0                 1599                   1599                 1599   \n",
       "1    46.46779237023139     0.9967466791744831    3.311113195747343   \n",
       "2    32.89532447829907  0.0018873339538427265  0.15438646490354271   \n",
       "3                  6.0                0.99007                 2.74   \n",
       "4                289.0                1.00369                 4.01   \n",
       "\n",
       "            sulphates             alcohol             quality  \n",
       "0                1599                1599                1599  \n",
       "1  0.6581488430268921  10.422983114446502  5.6360225140712945  \n",
       "2  0.1695069795901101  1.0656675818473935  0.8075694397347051  \n",
       "3                0.33                 8.4                   3  \n",
       "4                 2.0                14.9                   8  "
      ]
     },
     "execution_count": 11,
     "metadata": {},
     "output_type": "execute_result"
    }
   ],
   "source": [
    "dataset.describe().toPandas()"
   ]
  },
  {
   "cell_type": "code",
   "execution_count": 12,
   "metadata": {
    "collapsed": true
   },
   "outputs": [],
   "source": [
    "train, test = dataset.randomSplit(weights=[0.7, 0.3], seed=42)"
   ]
  },
  {
   "cell_type": "code",
   "execution_count": 13,
   "metadata": {},
   "outputs": [],
   "source": [
    "numerical = train.columns[:-1]"
   ]
  },
  {
   "cell_type": "code",
   "execution_count": 14,
   "metadata": {},
   "outputs": [],
   "source": [
    "GBTR = GBTRegressor(maxIter=5, maxDepth=2, featuresCol=\"features\", labelCol=\"label\", seed=42)\n",
    "stages = []\n",
    "\n",
    "stages.append(StringIndexer(inputCol=\"quality\", outputCol=\"label\"))\n",
    "assembler = VectorAssembler(inputCols=numerical, outputCol=\"features\")\n",
    "stages += [assembler] + [GBTR]"
   ]
  },
  {
   "cell_type": "code",
   "execution_count": 15,
   "metadata": {},
   "outputs": [
    {
     "data": {
      "text/plain": [
       "[StringIndexer_465d830e9a69fd65aef0,\n",
       " VectorAssembler_49beb1ab877c0b8e30c5,\n",
       " GBTRegressor_4792a192cfab9e323c66]"
      ]
     },
     "execution_count": 15,
     "metadata": {},
     "output_type": "execute_result"
    }
   ],
   "source": [
    "stages"
   ]
  },
  {
   "cell_type": "code",
   "execution_count": 16,
   "metadata": {},
   "outputs": [],
   "source": [
    "pipeline = Pipeline(stages=stages)\n",
    "model = pipeline.fit(train)\n",
    "predictions = model.transform(test)"
   ]
  },
  {
   "cell_type": "code",
   "execution_count": 17,
   "metadata": {},
   "outputs": [
    {
     "name": "stdout",
     "output_type": "stream",
     "text": [
      "+-----+--------------------+-------------------+\n",
      "|label|            features|         prediction|\n",
      "+-----+--------------------+-------------------+\n",
      "|  1.0|[4.7,0.6,0.17,2.3...|  1.389217635997751|\n",
      "|  2.0|[4.9,0.42,0.0,2.1...| 1.6544191557947636|\n",
      "|  1.0|[5.0,0.38,0.01,1....| 1.6544191557947636|\n",
      "|  0.0|[5.2,0.32,0.25,1....| 0.5446163070940966|\n",
      "|  2.0|[5.2,0.48,0.04,1....|  1.389217635997751|\n",
      "|  1.0|[5.4,0.74,0.09,1....| 0.9847167959588441|\n",
      "|  4.0|[5.5,0.49,0.03,1....| 1.6544191557947636|\n",
      "|  0.0|[5.6,0.31,0.37,1....|0.19371631410287427|\n",
      "|  0.0|[5.6,0.54,0.04,1....| 1.0545973934713844|\n",
      "|  0.0|[5.6,0.605,0.05,2...|  1.389217635997751|\n",
      "|  1.0|[5.9,0.29,0.25,13...|  0.115863280459714|\n",
      "|  1.0|[5.9,0.395,0.13,2...|  1.433879958020411|\n",
      "|  0.0|[5.9,0.46,0.0,1.9...| 0.9847167959588441|\n",
      "|  1.0|[5.9,0.61,0.08,2....| 1.1207625929421017|\n",
      "|  3.0|[6.0,0.33,0.32,12...| 0.9847167959588441|\n",
      "|  0.0|[6.0,0.5,0.0,1.4,...| 0.6224693407372568|\n",
      "|  0.0|[6.0,0.5,0.04,2.2...| 0.5446163070940966|\n",
      "|  1.0|[6.0,0.54,0.06,1....|  0.115863280459714|\n",
      "|  0.0|[6.1,0.38,0.15,1....| 0.6144969046066369|\n",
      "|  0.0|[6.1,0.59,0.01,2....| 1.0545973934713844|\n",
      "+-----+--------------------+-------------------+\n",
      "only showing top 20 rows\n",
      "\n"
     ]
    }
   ],
   "source": [
    "predictions.select('label','features', 'prediction').show()"
   ]
  },
  {
   "cell_type": "code",
   "execution_count": 18,
   "metadata": {},
   "outputs": [
    {
     "name": "stdout",
     "output_type": "stream",
     "text": [
      "Root Mean Squared Error (RMSE) on test data =  0.8326181541339553\n"
     ]
    }
   ],
   "source": [
    "evaluator = RegressionEvaluator(\n",
    "    labelCol=\"label\", predictionCol=\"prediction\", metricName=\"rmse\")\n",
    "rmse = evaluator.evaluate(predictions)\n",
    "print(\"Root Mean Squared Error (RMSE) on test data = \" , rmse)"
   ]
  },
  {
   "cell_type": "code",
   "execution_count": 19,
   "metadata": {},
   "outputs": [],
   "source": [
    "with open(\"answers/week6/task2/output.txt\", \"w\") as f:\n",
    "    f.write(str(rmse))"
   ]
  },
  {
   "cell_type": "code",
   "execution_count": 20,
   "metadata": {},
   "outputs": [
    {
     "name": "stdout",
     "output_type": "stream",
     "text": [
      "0.8326181541339553"
     ]
    }
   ],
   "source": [
    "!cat answers/week6/task2/output.txt"
   ]
  },
  {
   "cell_type": "code",
   "execution_count": 21,
   "metadata": {},
   "outputs": [
    {
     "name": "stdout",
     "output_type": "stream",
     "text": [
      "Root Mean Squared Error (RMSE) on test data =  0.8273329922182245\n"
     ]
    }
   ],
   "source": [
    "paramGrid = ParamGridBuilder()\\\n",
    "    .addGrid(GBTR.maxDepth, [2, 5, 10, 20]) \\\n",
    "    .addGrid(GBTR.maxIter, [2, 5, 7, 10, 20])\\\n",
    "    .build()\n",
    "    \n",
    "tvs = TrainValidationSplit(estimator=GBTR,\n",
    "                           estimatorParamMaps=paramGrid,\n",
    "                           evaluator=RegressionEvaluator(),\n",
    "                           # 80% of the data will be used for training, 20% for validation.\n",
    "                           trainRatio=0.8)\n",
    "\n",
    "stages = []\n",
    "\n",
    "stages.append(StringIndexer(inputCol=\"quality\", outputCol=\"label\"))\n",
    "assembler = VectorAssembler(inputCols=numerical, outputCol=\"features\")\n",
    "stages += [assembler]\n",
    "\n",
    "pipeline = Pipeline(stages=stages)\n",
    "model = pipeline.fit(train)\n",
    "data = model.transform(train)\n",
    "train_data = data.select('label', 'features')\n",
    "\n",
    "data = model.transform(test)\n",
    "test_data = data.select('label', 'features')\n",
    "\n",
    "model = tvs.fit(train_data)\n",
    "\n",
    "predictions = model.transform(test_data)\n",
    "evaluator = RegressionEvaluator(\n",
    "    labelCol=\"label\", predictionCol=\"prediction\", metricName=\"rmse\")\n",
    "rmse = evaluator.evaluate(predictions)\n",
    "print(\"Root Mean Squared Error (RMSE) on test data = \" , rmse)"
   ]
  },
  {
   "cell_type": "code",
   "execution_count": null,
   "metadata": {
    "collapsed": true
   },
   "outputs": [],
   "source": []
  },
  {
   "cell_type": "code",
   "execution_count": null,
   "metadata": {
    "collapsed": true
   },
   "outputs": [],
   "source": []
  }
 ],
 "metadata": {
  "kernelspec": {
   "display_name": "Python 3",
   "language": "python",
   "name": "python3"
  },
  "language_info": {
   "codemirror_mode": {
    "name": "ipython",
    "version": 3
   },
   "file_extension": ".py",
   "mimetype": "text/x-python",
   "name": "python",
   "nbconvert_exporter": "python",
   "pygments_lexer": "ipython3",
   "version": "3.8.2"
  }
 },
 "nbformat": 4,
 "nbformat_minor": 2
}
