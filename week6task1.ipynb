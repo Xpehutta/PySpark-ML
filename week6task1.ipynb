{
 "cells": [
  {
   "cell_type": "code",
   "execution_count": 32,
   "metadata": {},
   "outputs": [],
   "source": [
    "from pyspark.sql import SparkSession\n",
    "from pyspark.sql.types import StructType, StructField, IntegerType, StringType, FloatType\n",
    "from pyspark.sql.functions import col, unix_timestamp, expr, desc, regexp_extract, isnan, when, count\n",
    "from pyspark.ml.feature import VectorAssembler, StringIndexer, OneHotEncoder, OneHotEncoderEstimator\n",
    "from pyspark.ml.classification import DecisionTreeClassifier\n",
    "from pyspark.ml.evaluation import MulticlassClassificationEvaluator, BinaryClassificationEvaluator\n",
    "from pyspark.ml import Pipeline"
   ]
  },
  {
   "cell_type": "code",
   "execution_count": 33,
   "metadata": {
    "collapsed": true
   },
   "outputs": [],
   "source": [
    "spark.stop()"
   ]
  },
  {
   "cell_type": "code",
   "execution_count": 34,
   "metadata": {},
   "outputs": [],
   "source": [
    "spark = SparkSession \\\n",
    "    .builder \\\n",
    "    .config(\"spark.driver.maxResultSize\",  \"0\") \\\n",
    "    .appName(\"08_predict_the_survivors_of_the_titanic_shipwreck\") \\\n",
    "    .master(\"yarn\") \\\n",
    "    .getOrCreate()"
   ]
  },
  {
   "cell_type": "code",
   "execution_count": 35,
   "metadata": {},
   "outputs": [
    {
     "data": {
      "text/html": [
       "\n",
       "            <div>\n",
       "                <p><b>SparkSession - hive</b></p>\n",
       "                \n",
       "        <div>\n",
       "            <p><b>SparkContext</b></p>\n",
       "\n",
       "            <p><a href=\"http://hadoop2-00.yandex.ru:4041\">Spark UI</a></p>\n",
       "\n",
       "            <dl>\n",
       "              <dt>Version</dt>\n",
       "                <dd><code>v2.3.0.cloudera3</code></dd>\n",
       "              <dt>Master</dt>\n",
       "                <dd><code>yarn</code></dd>\n",
       "              <dt>AppName</dt>\n",
       "                <dd><code>08_predict_the_survivors_of_the_titanic_shipwreck</code></dd>\n",
       "            </dl>\n",
       "        </div>\n",
       "        \n",
       "            </div>\n",
       "        "
      ],
      "text/plain": [
       "<pyspark.sql.session.SparkSession at 0x7fb1e2d89f98>"
      ]
     },
     "execution_count": 35,
     "metadata": {},
     "output_type": "execute_result"
    }
   ],
   "source": [
    "spark"
   ]
  },
  {
   "cell_type": "code",
   "execution_count": 36,
   "metadata": {
    "collapsed": true
   },
   "outputs": [],
   "source": [
    "test = spark.read.csv(\"hdfs:///data/lsml/6-spark-ml/test.csv\", inferSchema = True, header=True)\n",
    "train = spark.read.csv(\"hdfs:///data/lsml/6-spark-ml/train.csv\", inferSchema = True, header=True)"
   ]
  },
  {
   "cell_type": "code",
   "execution_count": 37,
   "metadata": {},
   "outputs": [
    {
     "name": "stdout",
     "output_type": "stream",
     "text": [
      "+-----------+------+--------------------+------+----+-----+-----+------+------+-----+--------+\n",
      "|PassengerId|Pclass|                Name|   Sex| Age|SibSp|Parch|Ticket|  Fare|Cabin|Embarked|\n",
      "+-----------+------+--------------------+------+----+-----+-----+------+------+-----+--------+\n",
      "|        892|     3|    Kelly, Mr. James|  male|34.5|    0|    0|330911|7.8292| null|       Q|\n",
      "|        893|     3|Wilkes, Mrs. Jame...|female|47.0|    1|    0|363272|   7.0| null|       S|\n",
      "+-----------+------+--------------------+------+----+-----+-----+------+------+-----+--------+\n",
      "only showing top 2 rows\n",
      "\n"
     ]
    }
   ],
   "source": [
    "test.show(2)"
   ]
  },
  {
   "cell_type": "code",
   "execution_count": 38,
   "metadata": {},
   "outputs": [
    {
     "name": "stdout",
     "output_type": "stream",
     "text": [
      "root\n",
      " |-- PassengerId: integer (nullable = true)\n",
      " |-- Pclass: integer (nullable = true)\n",
      " |-- Name: string (nullable = true)\n",
      " |-- Sex: string (nullable = true)\n",
      " |-- Age: double (nullable = true)\n",
      " |-- SibSp: integer (nullable = true)\n",
      " |-- Parch: integer (nullable = true)\n",
      " |-- Ticket: string (nullable = true)\n",
      " |-- Fare: double (nullable = true)\n",
      " |-- Cabin: string (nullable = true)\n",
      " |-- Embarked: string (nullable = true)\n",
      "\n"
     ]
    }
   ],
   "source": [
    "test.printSchema()"
   ]
  },
  {
   "cell_type": "code",
   "execution_count": 39,
   "metadata": {},
   "outputs": [
    {
     "name": "stdout",
     "output_type": "stream",
     "text": [
      "+-----------+--------+------+--------------------+------+----+-----+-----+---------+-------+-----+--------+\n",
      "|PassengerId|Survived|Pclass|                Name|   Sex| Age|SibSp|Parch|   Ticket|   Fare|Cabin|Embarked|\n",
      "+-----------+--------+------+--------------------+------+----+-----+-----+---------+-------+-----+--------+\n",
      "|          1|       0|     3|Braund, Mr. Owen ...|  male|22.0|    1|    0|A/5 21171|   7.25| null|       S|\n",
      "|          2|       1|     1|Cumings, Mrs. Joh...|female|38.0|    1|    0| PC 17599|71.2833|  C85|       C|\n",
      "+-----------+--------+------+--------------------+------+----+-----+-----+---------+-------+-----+--------+\n",
      "only showing top 2 rows\n",
      "\n"
     ]
    }
   ],
   "source": [
    "train.show(2)    "
   ]
  },
  {
   "cell_type": "code",
   "execution_count": 40,
   "metadata": {},
   "outputs": [
    {
     "name": "stdout",
     "output_type": "stream",
     "text": [
      "root\n",
      " |-- PassengerId: integer (nullable = true)\n",
      " |-- Pclass: integer (nullable = true)\n",
      " |-- Name: string (nullable = true)\n",
      " |-- Sex: string (nullable = true)\n",
      " |-- Age: double (nullable = true)\n",
      " |-- SibSp: integer (nullable = true)\n",
      " |-- Parch: integer (nullable = true)\n",
      " |-- Ticket: string (nullable = true)\n",
      " |-- Fare: double (nullable = true)\n",
      " |-- Cabin: string (nullable = true)\n",
      " |-- Embarked: string (nullable = true)\n",
      "\n"
     ]
    }
   ],
   "source": [
    "test.printSchema()"
   ]
  },
  {
   "cell_type": "code",
   "execution_count": 41,
   "metadata": {},
   "outputs": [],
   "source": [
    "train_cut = train.withColumn('Title', regexp_extract('Name', r'\\s([A-Z]{1}[a-z]+)\\.', 1)) \\\n",
    "     .withColumn('FamilySize', expr(\"CASE WHEN SibSp = 0 then 'Single' WHEN SibSp > 0 and SibSp <4 then 'Small' else 'Large' end\")) \\\n",
    "     .select('Survived', 'Pclass', 'Title', 'Sex', 'Age', 'FamilySize', 'Parch'\n",
    "             , 'Fare' , 'Embarked')"
   ]
  },
  {
   "cell_type": "code",
   "execution_count": 42,
   "metadata": {},
   "outputs": [
    {
     "name": "stdout",
     "output_type": "stream",
     "text": [
      "+--------+------+-----+---+---+----------+-----+----+--------+\n",
      "|Survived|Pclass|Title|Sex|Age|FamilySize|Parch|Fare|Embarked|\n",
      "+--------+------+-----+---+---+----------+-----+----+--------+\n",
      "|       0|     0|    0|  0|177|         0|    0|   0|       2|\n",
      "+--------+------+-----+---+---+----------+-----+----+--------+\n",
      "\n"
     ]
    }
   ],
   "source": [
    "df_count = train_cut.select([count(when(col(c).contains('None') | \\\n",
    "                            col(c).contains('NULL') | \\\n",
    "                            (col(c) == '' ) | \\\n",
    "                            col(c).isNull() | \\\n",
    "                            isnan(c), c \n",
    "                           )).alias(c)\n",
    "                    for c in train_cut.columns])\n",
    "df_count.show()"
   ]
  },
  {
   "cell_type": "code",
   "execution_count": 43,
   "metadata": {},
   "outputs": [],
   "source": [
    "avg_age = round(train_cut.groupBy().avg('Age').collect()[0]['avg(Age)'], 0)\n",
    "train_cut_na = train_cut.na.fill(avg_age, subset = ['Age'])"
   ]
  },
  {
   "cell_type": "code",
   "execution_count": 44,
   "metadata": {},
   "outputs": [
    {
     "name": "stdout",
     "output_type": "stream",
     "text": [
      "+--------+-----+\n",
      "|Embarked|count|\n",
      "+--------+-----+\n",
      "|       Q|   77|\n",
      "|    null|    2|\n",
      "|       C|  168|\n",
      "|       S|  644|\n",
      "+--------+-----+\n",
      "\n"
     ]
    }
   ],
   "source": [
    "train_cut.groupBy('Embarked').count().show()"
   ]
  },
  {
   "cell_type": "code",
   "execution_count": 45,
   "metadata": {
    "collapsed": true
   },
   "outputs": [],
   "source": [
    "train_cut_na = train_cut_na.na.fill(\"S\", subset = ['Embarked']) "
   ]
  },
  {
   "cell_type": "code",
   "execution_count": 46,
   "metadata": {},
   "outputs": [
    {
     "name": "stdout",
     "output_type": "stream",
     "text": [
      "+--------+------+-----+---+---+----------+-----+----+--------+\n",
      "|Survived|Pclass|Title|Sex|Age|FamilySize|Parch|Fare|Embarked|\n",
      "+--------+------+-----+---+---+----------+-----+----+--------+\n",
      "|       0|     0|    0|  0|  0|         0|    0|   0|       0|\n",
      "+--------+------+-----+---+---+----------+-----+----+--------+\n",
      "\n"
     ]
    }
   ],
   "source": [
    "df_count_na = train_cut_na.select([count(when(col(c).contains('None') | \\\n",
    "                            col(c).contains('NULL') | \\\n",
    "                            (col(c) == '' ) | \\\n",
    "                            col(c).isNull() | \\\n",
    "                            isnan(c), c \n",
    "                           )).alias(c)\n",
    "                    for c in train_cut_na.columns])\n",
    "df_count_na.show()"
   ]
  },
  {
   "cell_type": "code",
   "execution_count": 47,
   "metadata": {},
   "outputs": [
    {
     "data": {
      "text/html": [
       "<div>\n",
       "<style>\n",
       "    .dataframe thead tr:only-child th {\n",
       "        text-align: right;\n",
       "    }\n",
       "\n",
       "    .dataframe thead th {\n",
       "        text-align: left;\n",
       "    }\n",
       "\n",
       "    .dataframe tbody tr th {\n",
       "        vertical-align: top;\n",
       "    }\n",
       "</style>\n",
       "<table border=\"1\" class=\"dataframe\">\n",
       "  <thead>\n",
       "    <tr style=\"text-align: right;\">\n",
       "      <th></th>\n",
       "      <th>summary</th>\n",
       "      <th>Survived</th>\n",
       "      <th>Pclass</th>\n",
       "      <th>Title</th>\n",
       "      <th>Sex</th>\n",
       "      <th>Age</th>\n",
       "      <th>FamilySize</th>\n",
       "      <th>Parch</th>\n",
       "      <th>Fare</th>\n",
       "      <th>Embarked</th>\n",
       "    </tr>\n",
       "  </thead>\n",
       "  <tbody>\n",
       "    <tr>\n",
       "      <th>0</th>\n",
       "      <td>count</td>\n",
       "      <td>891</td>\n",
       "      <td>891</td>\n",
       "      <td>891</td>\n",
       "      <td>891</td>\n",
       "      <td>891</td>\n",
       "      <td>891</td>\n",
       "      <td>891</td>\n",
       "      <td>891</td>\n",
       "      <td>891</td>\n",
       "    </tr>\n",
       "    <tr>\n",
       "      <th>1</th>\n",
       "      <td>mean</td>\n",
       "      <td>0.3838383838383838</td>\n",
       "      <td>2.308641975308642</td>\n",
       "      <td>None</td>\n",
       "      <td>None</td>\n",
       "      <td>29.758888888888887</td>\n",
       "      <td>None</td>\n",
       "      <td>0.38159371492704824</td>\n",
       "      <td>32.2042079685746</td>\n",
       "      <td>None</td>\n",
       "    </tr>\n",
       "    <tr>\n",
       "      <th>2</th>\n",
       "      <td>stddev</td>\n",
       "      <td>0.48659245426485753</td>\n",
       "      <td>0.8360712409770491</td>\n",
       "      <td>None</td>\n",
       "      <td>None</td>\n",
       "      <td>13.002570039820947</td>\n",
       "      <td>None</td>\n",
       "      <td>0.8060572211299488</td>\n",
       "      <td>49.69342859718089</td>\n",
       "      <td>None</td>\n",
       "    </tr>\n",
       "    <tr>\n",
       "      <th>3</th>\n",
       "      <td>min</td>\n",
       "      <td>0</td>\n",
       "      <td>1</td>\n",
       "      <td>Capt</td>\n",
       "      <td>female</td>\n",
       "      <td>0.42</td>\n",
       "      <td>Large</td>\n",
       "      <td>0</td>\n",
       "      <td>0.0</td>\n",
       "      <td>C</td>\n",
       "    </tr>\n",
       "    <tr>\n",
       "      <th>4</th>\n",
       "      <td>max</td>\n",
       "      <td>1</td>\n",
       "      <td>3</td>\n",
       "      <td>Sir</td>\n",
       "      <td>male</td>\n",
       "      <td>80.0</td>\n",
       "      <td>Small</td>\n",
       "      <td>6</td>\n",
       "      <td>512.3292</td>\n",
       "      <td>S</td>\n",
       "    </tr>\n",
       "  </tbody>\n",
       "</table>\n",
       "</div>"
      ],
      "text/plain": [
       "  summary             Survived              Pclass Title     Sex  \\\n",
       "0   count                  891                 891   891     891   \n",
       "1    mean   0.3838383838383838   2.308641975308642  None    None   \n",
       "2  stddev  0.48659245426485753  0.8360712409770491  None    None   \n",
       "3     min                    0                   1  Capt  female   \n",
       "4     max                    1                   3   Sir    male   \n",
       "\n",
       "                  Age FamilySize                Parch               Fare  \\\n",
       "0                 891        891                  891                891   \n",
       "1  29.758888888888887       None  0.38159371492704824   32.2042079685746   \n",
       "2  13.002570039820947       None   0.8060572211299488  49.69342859718089   \n",
       "3                0.42      Large                    0                0.0   \n",
       "4                80.0      Small                    6           512.3292   \n",
       "\n",
       "  Embarked  \n",
       "0      891  \n",
       "1     None  \n",
       "2     None  \n",
       "3        C  \n",
       "4        S  "
      ]
     },
     "execution_count": 47,
     "metadata": {},
     "output_type": "execute_result"
    }
   ],
   "source": [
    "train_cut_na.describe().toPandas()"
   ]
  },
  {
   "cell_type": "code",
   "execution_count": 48,
   "metadata": {},
   "outputs": [],
   "source": [
    "categorical = [col for (col, dataType) in train_cut_na.dtypes if dataType == 'string']\n",
    "numerical = [col for (col, dataType) in train_cut_na.dtypes if (dataType != 'string') & (col != 'Survived')]"
   ]
  },
  {
   "cell_type": "code",
   "execution_count": 67,
   "metadata": {},
   "outputs": [],
   "source": [
    "dt = DecisionTreeClassifier(featuresCol=\"features\", labelCol=\"label\", maxDepth=15)\n",
    "stages = []\n",
    "for i in categorical:\n",
    "    si = StringIndexer(handleInvalid=\"skip\", inputCol=i, outputCol=i+\"_si\")\n",
    "    #ohe = OneHotEncoderEstimator(handleInvalid='keep', inputCols=[si.getOutputCol()], outputCols=[i+\"_ohe\"])\n",
    "    stages += [si]#, ohe]\n",
    "\n",
    "stages.append(StringIndexer(inputCol=\"Survived\", outputCol=\"label\"))\n",
    "\n",
    "assembler = [col + \"_si\" for col in categorical] + numerical\n",
    "assembler = VectorAssembler(inputCols=assembler, outputCol=\"features\")\n",
    "stages += [assembler] + [dt]"
   ]
  },
  {
   "cell_type": "code",
   "execution_count": 68,
   "metadata": {},
   "outputs": [
    {
     "data": {
      "text/plain": [
       "[StringIndexer_493e8e4a3aa75604d6f2,\n",
       " StringIndexer_44318672eab3404a7ef0,\n",
       " StringIndexer_475e8ddcd443a536ce68,\n",
       " StringIndexer_4719baa50ad2c25341ac,\n",
       " StringIndexer_4d97857da2491afbe5c7,\n",
       " VectorAssembler_4fda9e45abb9770e6a10,\n",
       " DecisionTreeClassifier_4fab95614b22c69b2e09]"
      ]
     },
     "execution_count": 68,
     "metadata": {},
     "output_type": "execute_result"
    }
   ],
   "source": [
    "stages"
   ]
  },
  {
   "cell_type": "code",
   "execution_count": 69,
   "metadata": {},
   "outputs": [],
   "source": [
    "pipeline = Pipeline(stages=stages)\n",
    "model = pipeline.fit(train_cut_na)\n",
    "data = model.transform(train_cut_na)"
   ]
  },
  {
   "cell_type": "code",
   "execution_count": 70,
   "metadata": {},
   "outputs": [
    {
     "name": "stdout",
     "output_type": "stream",
     "text": [
      "+-----+--------------------+----------+\n",
      "|label|            features|prediction|\n",
      "+-----+--------------------+----------+\n",
      "|  0.0|(8,[2,4,5,7],[1.0...|       0.0|\n",
      "|  1.0|[2.0,1.0,1.0,1.0,...|       1.0|\n",
      "|  1.0|[1.0,1.0,0.0,0.0,...|       1.0|\n",
      "|  1.0|[2.0,1.0,1.0,0.0,...|       1.0|\n",
      "|  0.0|(8,[4,5,7],[3.0,3...|       0.0|\n",
      "|  0.0|(8,[3,4,5,7],[2.0...|       0.0|\n",
      "|  0.0|(8,[4,5,7],[1.0,5...|       0.0|\n",
      "|  0.0|[3.0,0.0,1.0,0.0,...|       0.0|\n",
      "|  1.0|[2.0,1.0,0.0,0.0,...|       1.0|\n",
      "|  1.0|[2.0,1.0,1.0,1.0,...|       1.0|\n",
      "|  1.0|[1.0,1.0,1.0,0.0,...|       1.0|\n",
      "|  1.0|[1.0,1.0,0.0,0.0,...|       1.0|\n",
      "|  0.0|(8,[4,5,7],[3.0,2...|       0.0|\n",
      "|  0.0|[0.0,0.0,1.0,0.0,...|       0.0|\n",
      "|  0.0|[1.0,1.0,0.0,0.0,...|       0.0|\n",
      "|  1.0|[2.0,1.0,0.0,0.0,...|       1.0|\n",
      "|  0.0|[3.0,0.0,2.0,2.0,...|       0.0|\n",
      "|  1.0|(8,[4,5,7],[2.0,3...|       0.0|\n",
      "|  0.0|[2.0,1.0,1.0,0.0,...|       0.0|\n",
      "|  1.0|[2.0,1.0,0.0,1.0,...|       1.0|\n",
      "+-----+--------------------+----------+\n",
      "only showing top 20 rows\n",
      "\n"
     ]
    }
   ],
   "source": [
    "data.select('label','features', 'prediction').show()"
   ]
  },
  {
   "cell_type": "code",
   "execution_count": 71,
   "metadata": {},
   "outputs": [
    {
     "name": "stdout",
     "output_type": "stream",
     "text": [
      "Accuracy: 0.9528619528619529\n"
     ]
    }
   ],
   "source": [
    "# Select (prediction, true label) and compute test error\n",
    "evaluator = MulticlassClassificationEvaluator(\n",
    "    labelCol=\"label\", predictionCol=\"prediction\", metricName=\"accuracy\")\n",
    "accuracy = evaluator.evaluate(data)\n",
    "print(\"Accuracy:\" , (accuracy))\n"
   ]
  },
  {
   "cell_type": "code",
   "execution_count": 72,
   "metadata": {},
   "outputs": [
    {
     "name": "stdout",
     "output_type": "stream",
     "text": [
      "Area under ROC curve: 0.9688801542410975\n"
     ]
    }
   ],
   "source": [
    "bcEvaluator = BinaryClassificationEvaluator(metricName=\"areaUnderROC\")\n",
    "AUR = bcEvaluator.evaluate(data)\n",
    "print(\"Area under ROC curve:\", AUR)\n"
   ]
  },
  {
   "cell_type": "code",
   "execution_count": 73,
   "metadata": {},
   "outputs": [],
   "source": [
    "with open(\"answers/week6/task1/output.txt\", \"w\") as f:\n",
    "    f.write(str(AUR))"
   ]
  },
  {
   "cell_type": "code",
   "execution_count": 74,
   "metadata": {},
   "outputs": [
    {
     "name": "stdout",
     "output_type": "stream",
     "text": [
      "0.9688801542410975"
     ]
    }
   ],
   "source": [
    "!cat answers/week6/task1/output.txt"
   ]
  },
  {
   "cell_type": "code",
   "execution_count": 29,
   "metadata": {},
   "outputs": [
    {
     "name": "stdout",
     "output_type": "stream",
     "text": [
      "\u001b[33mDEPRECATION: Python 2.7 reached the end of its life on January 1st, 2020. Please upgrade your Python as Python 2.7 is no longer maintained. pip 21.0 will drop support for Python 2.7 in January 2021. More details about Python 2 support in pip can be found at https://pip.pypa.io/en/latest/development/release-process/#python-2-support pip 21.0 will remove support for this functionality.\u001b[0m\n",
      "Defaulting to user installation because normal site-packages is not writeable\n",
      "Requirement already up-to-date: pip in /u3/shared/anaconda/lib/python2.7/site-packages (20.3.4)\n",
      "\u001b[33mDEPRECATION: Python 2.7 reached the end of its life on January 1st, 2020. Please upgrade your Python as Python 2.7 is no longer maintained. pip 21.0 will drop support for Python 2.7 in January 2021. More details about Python 2 support in pip can be found at https://pip.pypa.io/en/latest/development/release-process/#python-2-support pip 21.0 will remove support for this functionality.\u001b[0m\n",
      "Defaulting to user installation because normal site-packages is not writeable\n",
      "Requirement already satisfied: matplotlib in ./.local/lib/python2.7/site-packages (2.2.5)\n",
      "Requirement already satisfied: backports.functools-lru-cache in ./.local/lib/python2.7/site-packages (from matplotlib) (1.6.4)\n",
      "Requirement already satisfied: kiwisolver>=1.0.1 in ./.local/lib/python2.7/site-packages (from matplotlib) (1.1.0)\n",
      "Requirement already satisfied: six>=1.10 in /u3/shared/anaconda/lib/python2.7/site-packages (from matplotlib) (1.12.0)\n",
      "Requirement already satisfied: numpy>=1.7.1 in /u3/shared/anaconda/lib/python2.7/site-packages (from matplotlib) (1.15.4)\n",
      "Requirement already satisfied: cycler>=0.10 in /u3/shared/anaconda/lib/python2.7/site-packages (from matplotlib) (0.10.0)\n",
      "Requirement already satisfied: pytz in /u3/shared/anaconda/lib/python2.7/site-packages (from matplotlib) (2018.7)\n",
      "Requirement already satisfied: subprocess32 in ./.local/lib/python2.7/site-packages (from matplotlib) (3.5.4)\n",
      "Requirement already satisfied: pyparsing!=2.0.4,!=2.1.2,!=2.1.6,>=2.0.1 in /u3/shared/anaconda/lib/python2.7/site-packages (from matplotlib) (2.1.4)\n",
      "Requirement already satisfied: python-dateutil>=2.1 in /u3/shared/anaconda/lib/python2.7/site-packages (from matplotlib) (2.8.0)\n",
      "Requirement already satisfied: setuptools in /u3/shared/anaconda/lib/python2.7/site-packages (from kiwisolver>=1.0.1->matplotlib) (41.6.0.post20191030)\n",
      "\u001b[33mDEPRECATION: Python 2.7 reached the end of its life on January 1st, 2020. Please upgrade your Python as Python 2.7 is no longer maintained. pip 21.0 will drop support for Python 2.7 in January 2021. More details about Python 2 support in pip can be found at https://pip.pypa.io/en/latest/development/release-process/#python-2-support pip 21.0 will remove support for this functionality.\u001b[0m\n",
      "Defaulting to user installation because normal site-packages is not writeable\n",
      "Requirement already satisfied: seaborn in ./.local/lib/python2.7/site-packages (0.9.1)\n",
      "Requirement already satisfied: pandas>=0.17.1 in /u3/shared/anaconda/lib/python2.7/site-packages (from seaborn) (0.23.4)\n",
      "Requirement already satisfied: scipy>=0.17.1 in /u3/shared/anaconda/lib/python2.7/site-packages (from seaborn) (0.17.1)\n",
      "Requirement already satisfied: matplotlib>=1.5.3 in ./.local/lib/python2.7/site-packages (from seaborn) (2.2.5)\n",
      "Requirement already satisfied: numpy>=1.10.4 in /u3/shared/anaconda/lib/python2.7/site-packages (from seaborn) (1.15.4)\n",
      "Requirement already satisfied: pytz>=2011k in /u3/shared/anaconda/lib/python2.7/site-packages (from pandas>=0.17.1->seaborn) (2018.7)\n",
      "Requirement already satisfied: python-dateutil>=2.5.0 in /u3/shared/anaconda/lib/python2.7/site-packages (from pandas>=0.17.1->seaborn) (2.8.0)\n",
      "Requirement already satisfied: backports.functools-lru-cache in ./.local/lib/python2.7/site-packages (from matplotlib>=1.5.3->seaborn) (1.6.4)\n",
      "Requirement already satisfied: kiwisolver>=1.0.1 in ./.local/lib/python2.7/site-packages (from matplotlib>=1.5.3->seaborn) (1.1.0)\n",
      "Requirement already satisfied: six>=1.10 in /u3/shared/anaconda/lib/python2.7/site-packages (from matplotlib>=1.5.3->seaborn) (1.12.0)\n",
      "Requirement already satisfied: cycler>=0.10 in /u3/shared/anaconda/lib/python2.7/site-packages (from matplotlib>=1.5.3->seaborn) (0.10.0)\n",
      "Requirement already satisfied: subprocess32 in ./.local/lib/python2.7/site-packages (from matplotlib>=1.5.3->seaborn) (3.5.4)\n",
      "Requirement already satisfied: pyparsing!=2.0.4,!=2.1.2,!=2.1.6,>=2.0.1 in /u3/shared/anaconda/lib/python2.7/site-packages (from matplotlib>=1.5.3->seaborn) (2.1.4)\n",
      "Requirement already satisfied: setuptools in /u3/shared/anaconda/lib/python2.7/site-packages (from kiwisolver>=1.0.1->matplotlib>=1.5.3->seaborn) (41.6.0.post20191030)\n"
     ]
    }
   ],
   "source": [
    "!pip install --upgrade pip\n",
    "!pip install matplotlib\n",
    "!pip install enaml\n",
    "!pip install seaborn"
   ]
  },
  {
   "cell_type": "code",
   "execution_count": 46,
   "metadata": {},
   "outputs": [
    {
     "ename": "ImportError",
     "evalue": "No module named 'matplotlib'",
     "output_type": "error",
     "traceback": [
      "\u001b[0;31m---------------------------------------------------------------------------\u001b[0m",
      "\u001b[0;31mImportError\u001b[0m                               Traceback (most recent call last)",
      "\u001b[0;32m<ipython-input-46-bd45daa86a41>\u001b[0m in \u001b[0;36m<module>\u001b[0;34m()\u001b[0m\n\u001b[0;32m----> 1\u001b[0;31m \u001b[0;32mimport\u001b[0m \u001b[0mmatplotlib\u001b[0m\u001b[0;34m.\u001b[0m\u001b[0mpyplot\u001b[0m \u001b[0;32mas\u001b[0m \u001b[0mplt\u001b[0m\u001b[0;34m\u001b[0m\u001b[0m\n\u001b[0m\u001b[1;32m      2\u001b[0m \u001b[0mplt\u001b[0m\u001b[0;34m.\u001b[0m\u001b[0mfigure\u001b[0m\u001b[0;34m(\u001b[0m\u001b[0mfigsize\u001b[0m\u001b[0;34m=\u001b[0m\u001b[0;34m(\u001b[0m\u001b[0;36m5\u001b[0m\u001b[0;34m,\u001b[0m\u001b[0;36m5\u001b[0m\u001b[0;34m)\u001b[0m\u001b[0;34m)\u001b[0m\u001b[0;34m\u001b[0m\u001b[0m\n\u001b[1;32m      3\u001b[0m \u001b[0mplt\u001b[0m\u001b[0;34m.\u001b[0m\u001b[0mplot\u001b[0m\u001b[0;34m(\u001b[0m\u001b[0;34m[\u001b[0m\u001b[0;36m0\u001b[0m\u001b[0;34m,\u001b[0m \u001b[0;36m1\u001b[0m\u001b[0;34m]\u001b[0m\u001b[0;34m,\u001b[0m \u001b[0;34m[\u001b[0m\u001b[0;36m0\u001b[0m\u001b[0;34m,\u001b[0m \u001b[0;36m1\u001b[0m\u001b[0;34m]\u001b[0m\u001b[0;34m,\u001b[0m \u001b[0;34m'r--'\u001b[0m\u001b[0;34m)\u001b[0m\u001b[0;34m\u001b[0m\u001b[0m\n\u001b[1;32m      4\u001b[0m plt.plot(madel.summary.roc.select('FPR').collect(),\n\u001b[1;32m      5\u001b[0m          madel.summary.roc.select('TPR').collect())\n",
      "\u001b[0;31mImportError\u001b[0m: No module named 'matplotlib'"
     ]
    }
   ],
   "source": [
    "plt.figure(figsize=(5,5))\n",
    "plt.plot([0, 1], [0, 1], 'r--')\n",
    "plt.plot(madel.summary.roc.select('FPR').collect(),\n",
    "         madel.summary.roc.select('TPR').collect())\n",
    "plt.xlabel('FPR')\n",
    "plt.ylabel('TPR')\n",
    "plt.show()"
   ]
  },
  {
   "cell_type": "code",
   "execution_count": 31,
   "metadata": {},
   "outputs": [
    {
     "name": "stdout",
     "output_type": "stream",
     "text": [
      "[sudo] password for nabramov: \n"
     ]
    }
   ],
   "source": [
    "!sudo apt-get install python-matplotlib"
   ]
  },
  {
   "cell_type": "code",
   "execution_count": null,
   "metadata": {
    "collapsed": true
   },
   "outputs": [],
   "source": []
  }
 ],
 "metadata": {
  "kernelspec": {
   "display_name": "Python 3",
   "language": "python",
   "name": "python3"
  },
  "language_info": {
   "codemirror_mode": {
    "name": "ipython",
    "version": 3
   },
   "file_extension": ".py",
   "mimetype": "text/x-python",
   "name": "python",
   "nbconvert_exporter": "python",
   "pygments_lexer": "ipython3",
   "version": "3.8.2"
  }
 },
 "nbformat": 4,
 "nbformat_minor": 2
}
